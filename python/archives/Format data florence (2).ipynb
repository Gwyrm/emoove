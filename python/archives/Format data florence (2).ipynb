{
 "cells": [
  {
   "cell_type": "code",
   "execution_count": 1,
   "metadata": {},
   "outputs": [],
   "source": [
    "import numpy as np\n",
    "import matplotlib.pyplot as plt\n",
    "import pandas"
   ]
  },
  {
   "cell_type": "code",
   "execution_count": 2,
   "metadata": {},
   "outputs": [],
   "source": [
    "f = open(\"data/Florence_dataset_WorldCoordinates.txt\")\n",
    "tmp = np.genfromtxt(f, delimiter=' ')\n",
    "mvt = np.array(tmp)"
   ]
  },
  {
   "cell_type": "code",
   "execution_count": 3,
   "metadata": {},
   "outputs": [],
   "source": [
    "# nombre de ligne/colonne du tableau de mouvements\n",
    "(li, col) = mvt.shape\n",
    "\n",
    "# unique contient tous les idVideos distinct\n",
    "# counts contient le nombre d'occurence de chaque unique \n",
    "unique, counts = np.unique(mvt[:,0], return_counts=True)\n",
    "\n",
    "nb_frame_max = max(counts)"
   ]
  },
  {
   "cell_type": "code",
   "execution_count": 4,
   "metadata": {},
   "outputs": [
    {
     "ename": "ValueError",
     "evalue": "setting an array element with a sequence.",
     "output_type": "error",
     "traceback": [
      "\u001b[1;31m---------------------------------------------------------------------------\u001b[0m",
      "\u001b[1;31mTypeError\u001b[0m                                 Traceback (most recent call last)",
      "\u001b[1;31mTypeError\u001b[0m: float() argument must be a string or a number, not 'list'",
      "\nThe above exception was the direct cause of the following exception:\n",
      "\u001b[1;31mValueError\u001b[0m                                Traceback (most recent call last)",
      "\u001b[1;32m<ipython-input-4-418b09219e5b>\u001b[0m in \u001b[0;36m<module>\u001b[1;34m\u001b[0m\n\u001b[1;32m----> 1\u001b[1;33m \u001b[0mmvts\u001b[0m \u001b[1;33m=\u001b[0m \u001b[0mnp\u001b[0m\u001b[1;33m.\u001b[0m\u001b[0marray\u001b[0m\u001b[1;33m(\u001b[0m\u001b[1;33m[\u001b[0m\u001b[1;36m0\u001b[0m\u001b[1;33m,\u001b[0m \u001b[1;33m[\u001b[0m\u001b[1;33m[\u001b[0m \u001b[0mx\u001b[0m \u001b[1;32mfor\u001b[0m \u001b[0mx\u001b[0m \u001b[1;32min\u001b[0m \u001b[0mrange\u001b[0m\u001b[1;33m(\u001b[0m\u001b[1;36m35\u001b[0m\u001b[1;33m)\u001b[0m\u001b[1;33m]\u001b[0m \u001b[1;32mfor\u001b[0m \u001b[0my\u001b[0m \u001b[1;32min\u001b[0m \u001b[0mrange\u001b[0m\u001b[1;33m(\u001b[0m\u001b[1;36m48\u001b[0m\u001b[1;33m)\u001b[0m\u001b[1;33m]\u001b[0m\u001b[1;33m]\u001b[0m\u001b[1;33m,\u001b[0m \u001b[0mdtype\u001b[0m\u001b[1;33m=\u001b[0m\u001b[1;34m'float'\u001b[0m\u001b[1;33m)\u001b[0m\u001b[1;33m\u001b[0m\u001b[1;33m\u001b[0m\u001b[0m\n\u001b[0m\u001b[0;32m      2\u001b[0m \u001b[1;33m\u001b[0m\u001b[0m\n\u001b[0;32m      3\u001b[0m \u001b[1;32mfor\u001b[0m \u001b[0mn\u001b[0m \u001b[1;32min\u001b[0m \u001b[0munique\u001b[0m\u001b[1;33m:\u001b[0m\u001b[1;33m\u001b[0m\u001b[1;33m\u001b[0m\u001b[0m\n\u001b[0;32m      4\u001b[0m \u001b[1;33m\u001b[0m\u001b[0m\n\u001b[0;32m      5\u001b[0m     \u001b[0midvideo\u001b[0m \u001b[1;33m=\u001b[0m \u001b[0mint\u001b[0m\u001b[1;33m(\u001b[0m\u001b[0mn\u001b[0m\u001b[1;33m)\u001b[0m\u001b[1;33m\u001b[0m\u001b[1;33m\u001b[0m\u001b[0m\n",
      "\u001b[1;31mValueError\u001b[0m: setting an array element with a sequence."
     ]
    }
   ],
   "source": [
    "mvts = np.array([0, [[ x for x in range(35)] for y in range(48)]], dtype='float')\n",
    "\n",
    "for n in unique:\n",
    "    \n",
    "    idvideo = int(n)\n",
    "    \n",
    "    tmp = mvt[mvt[:,0] == idvideo]\n",
    "    idcat = int(tmp[0,2])\n",
    "    tmp = np.array([idcat, tmp])\n",
    "    \n",
    "    mvts = np.vstack([mvts, tmp])\n",
    "\n",
    "mvts = mvts[1:]\n",
    "np.save('data/data_flo.npy', mvts)"
   ]
  },
  {
   "cell_type": "code",
   "execution_count": null,
   "metadata": {},
   "outputs": [],
   "source": [
    "#### debut = 0\n",
    "fin = 0\n",
    "\n",
    "tab_mvt = np.array([[[[ 0. for x in range(35)] \n",
    "                      for y in range(45)] \n",
    "                     for z in range(10)] \n",
    "                    for w in range(10)])\n",
    "\n",
    "cats = [ -1 for x in range(9) ]\n",
    "actors = [ 0 for x in range(10) ]\n",
    "\n",
    "periode_max = [x for x in range(nb_frame_max)]\n",
    "\n",
    "cpt = 0\n",
    "\n",
    "# Parcours des tous les id de vidéos\n",
    "# Donc de chaque mouvements\n",
    "for i in unique:\n",
    "    # nombre de frame de la vidéo en cours\n",
    "    indice = int(i)\n",
    "    nb_frame = counts[indice]\n",
    "    # laps de temps du mouvement\n",
    "    periode = [x for x in range(nb_frame)]\n",
    "    \n",
    "    debut = fin\n",
    "    fin = fin + nb_frame\n",
    "    \n",
    "#     spécialement pour la base de données florence\n",
    "#     Head: f1-f3\n",
    "#     Neck: f4-f6\n",
    "#     Spine: f7-f9\n",
    "#     Left Shoulder: f10-f12 *\n",
    "#     Left Elbow: f13-f15 * \n",
    "#     Left Wrist: f16-f18 * \n",
    "#     Right Shoulder: f19-f21 * \n",
    "#     Right Elbow: f22-f24 *\n",
    "#     Right Wrist: f25-f27 *\n",
    "#     Left Hip: f28-f30 * \n",
    "#     Left Knee: f31-f33 * \n",
    "#     Left Ankle: f34-f36 * \n",
    "#     Right Hip: f37-f39 *\n",
    "#     Right Knee: f40-f42 *\n",
    "#     Right Ankle: f43-f45 *\n",
    "    \n",
    "    tmp = np.array(mvt[debut:fin,3:]).T\n",
    "#     a, nb_frame = tmp.shape\n",
    "    \n",
    "#     for x in range(9,16,3):\n",
    "#         for y in range(nb_frame):\n",
    "#             tmp[x][y] += tmp[x+9][y]\n",
    "#             tmp[x+9][y] = tmp[x][y]\n",
    "        \n",
    "#     for x in range(27,34,3):\n",
    "#         for y in range(nb_frame):\n",
    "#             tmp[x][y] += tmp[x+9][y]\n",
    "#             tmp[x+9][y] = tmp[x][y]\n",
    "    \n",
    "    idcat = int(mvt[debut,2])\n",
    "    idactor = int(mvt[debut,1]) - 1\n",
    "    \n",
    "    actors[idactor] += 1\n",
    "    \n",
    "    if actors[idactor] == 1:\n",
    "        \n",
    "        idcat -= 1\n",
    "\n",
    "        mvt_norm = [0 for x in range(35)]\n",
    "\n",
    "        for c in tmp:\n",
    "            # pour chaque ligne\n",
    "            # interpolation pour avoir le même nombre de frame / mvt\n",
    "            # To-do : a revoir\n",
    "            nb_val = nb_frame_max - nb_frame\n",
    "            yinterp = np.append(c,[0 for x in range(nb_val)])\n",
    "            mvt_norm = np.vstack([mvt_norm, yinterp.T])\n",
    "\n",
    "        mvt_norm = mvt_norm[1:]\n",
    "\n",
    "        cats[idcat] += 1\n",
    "\n",
    "        tab_mvt[idactor][idcat][:][:] = mvt_norm.copy()\n",
    "\n",
    "np.save(\"data/data_flo4.npy\",tab_mvt)"
   ]
  },
  {
   "cell_type": "code",
   "execution_count": 6,
   "metadata": {},
   "outputs": [
    {
     "data": {
      "text/plain": [
       "(10, 10, 45, 35)"
      ]
     },
     "execution_count": 6,
     "metadata": {},
     "output_type": "execute_result"
    }
   ],
   "source": [
    "tab_mvt[0,0]\n",
    "tab_mvt.shape"
   ]
  },
  {
   "cell_type": "code",
   "execution_count": null,
   "metadata": {},
   "outputs": [],
   "source": []
  },
  {
   "cell_type": "code",
   "execution_count": null,
   "metadata": {},
   "outputs": [],
   "source": []
  }
 ],
 "metadata": {
  "kernelspec": {
   "display_name": "Python 3",
   "language": "python",
   "name": "python3"
  },
  "language_info": {
   "codemirror_mode": {
    "name": "ipython",
    "version": 3
   },
   "file_extension": ".py",
   "mimetype": "text/x-python",
   "name": "python",
   "nbconvert_exporter": "python",
   "pygments_lexer": "ipython3",
   "version": "3.7.6"
  }
 },
 "nbformat": 4,
 "nbformat_minor": 4
}
