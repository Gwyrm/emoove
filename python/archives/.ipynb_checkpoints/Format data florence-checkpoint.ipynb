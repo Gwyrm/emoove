{
 "cells": [
  {
   "cell_type": "code",
   "execution_count": 1,
   "metadata": {},
   "outputs": [],
   "source": [
    "import numpy as np\n",
    "import matplotlib.pyplot as plt\n",
    "import pandas"
   ]
  },
  {
   "cell_type": "code",
   "execution_count": 2,
   "metadata": {},
   "outputs": [],
   "source": [
    "f = open(\"data/Florence_dataset_WorldCoordinates.txt\")\n",
    "tmp = np.genfromtxt(f, delimiter=' ')\n",
    "mvt = np.array(tmp)"
   ]
  },
  {
   "cell_type": "code",
   "execution_count": 3,
   "metadata": {},
   "outputs": [
    {
     "name": "stdout",
     "output_type": "stream",
     "text": [
      "[27 30 31 32 24 35 22 27 24 13 13 24 14 21 20 25 28 24 22 28 29 20 20 17\n",
      " 23 18 20 16 14 13 14 14 23 16 15 19 18 12 17 18 12 19 16 15 15 15 24 18\n",
      " 16 21 22 20 20 18 21 14 21 22 24 23 23 27 16 16 18 21 17 30 21 17 19 24\n",
      " 23 16 18 11 14 19 21 22 24 19 22 17 15 20 32 21 17 22 17 19 11 15 10 15\n",
      " 19 23 27 20 23 19 21 16 24 16 20 25 16 15 20 16 26 15  8 11 22 23 21 19\n",
      " 19 19 18 12 15 16 16 27 28 16 21 19 20 12 21 10 11 21 21 23 18 18 17 24\n",
      " 18 17 14 18 15 14 16 16 15 14  9 13  8 12 18 23 28 24 24 25 24 22 14 15\n",
      " 17 19 24 28 20 11 17 15 12 16 10 10 13 11 21 23 17 24 17 18 15 17 17 22\n",
      " 13 13 15 17 16 23 11 10 14 12 11 20 21 25 16 21 17 15 15 14 18 20 17]\n"
     ]
    }
   ],
   "source": [
    "# nombre de ligne/colonne du tableau de mouvements\n",
    "(li, col) = mvt.shape\n",
    "\n",
    "# unique contient tous les idVideos distinct\n",
    "# counts contient le nombre d'occurence de chaque unique \n",
    "unique, counts = np.unique(mvt[:,0], return_counts=True)\n",
    "\n",
    "# le tableau commence à zéros !\n",
    "# mais les id de vidéos commencent à 1\n",
    "# et le nombre de position par vidéo doit être réduire de 1\n",
    "# counts[0] -= 1\n",
    "unique -= 1\n",
    "\n",
    "print(counts)\n",
    "\n",
    "nb_frame_max = max(counts)"
   ]
  },
  {
   "cell_type": "code",
   "execution_count": 4,
   "metadata": {},
   "outputs": [],
   "source": [
    "debut = 0\n",
    "fin = 0\n",
    "\n",
    "tab_mvt = np.array([[[[ 0. for x in range(35)] \n",
    "                      for y in range(45)] \n",
    "                     for z in range(30)] \n",
    "                    for w in range(10)])\n",
    "\n",
    "cats = [ -1 for x in range(9) ]\n",
    "\n",
    "periode_max = [x for x in range(nb_frame_max)]\n",
    "\n",
    "cpt = 0\n",
    "\n",
    "# Parcours des tous les id de vidéos\n",
    "# Donc de chaque mouvements\n",
    "for i in unique:\n",
    "    # nombre de frame de la vidéo en cours\n",
    "    indice = int(i)\n",
    "    nb_frame = counts[indice]\n",
    "    # laps de temps du mouvement\n",
    "    periode = [x for x in range(nb_frame)]\n",
    "    \n",
    "    debut = fin\n",
    "    fin = fin + nb_frame\n",
    "    \n",
    "#     spécialement pour la base de données florence\n",
    "#     Head: f1-f3\n",
    "#     Neck: f4-f6\n",
    "#     Spine: f7-f9\n",
    "#     Left Shoulder: f10-f12 *\n",
    "#     Left Elbow: f13-f15 * \n",
    "#     Left Wrist: f16-f18 * \n",
    "#     Right Shoulder: f19-f21 * \n",
    "#     Right Elbow: f22-f24 *\n",
    "#     Right Wrist: f25-f27 *\n",
    "#     Left Hip: f28-f30 * \n",
    "#     Left Knee: f31-f33 * \n",
    "#     Left Ankle: f34-f36 * \n",
    "#     Right Hip: f37-f39 *\n",
    "#     Right Knee: f40-f42 *\n",
    "#     Right Ankle: f43-f45 *\n",
    "    \n",
    "    tmp = np.array(mvt[debut:fin,3:]).T\n",
    "#     a, nb_frame = tmp.shape\n",
    "    \n",
    "#     for x in range(9,16,3):\n",
    "#         for y in range(nb_frame):\n",
    "#             tmp[x][y] += tmp[x+9][y]\n",
    "#             tmp[x+9][y] = tmp[x][y]\n",
    "        \n",
    "#     for x in range(27,34,3):\n",
    "#         for y in range(nb_frame):\n",
    "#             tmp[x][y] += tmp[x+9][y]\n",
    "#             tmp[x+9][y] = tmp[x][y]\n",
    "    \n",
    "    idcat = int(mvt[debut,2])\n",
    "    \n",
    "    idcat -= 1\n",
    "    \n",
    "    mvt_norm = [0 for x in range(35)]\n",
    "    \n",
    "    for c in tmp:\n",
    "        # pour chaque ligne\n",
    "        # interpolation pour avoir le même nombre de frame / mvt\n",
    "        x = periode\n",
    "        y = c\n",
    "        xvals = periode_max\n",
    "        yinterp = np.gradient(np.interp(xvals, x, y))\n",
    "        mvt_norm = np.vstack([mvt_norm, yinterp.T])\n",
    "    \n",
    "    mvt_norm = mvt_norm[1:]\n",
    "    \n",
    "    cats[idcat] += 1\n",
    "    \n",
    "    tab_mvt[idcat][cats[idcat]][:][:] = mvt_norm.copy()\n",
    "\n",
    "np.save(\"data/data_flo.npy\",tab_mvt)"
   ]
  },
  {
   "cell_type": "code",
   "execution_count": 9,
   "metadata": {},
   "outputs": [
    {
     "data": {
      "text/plain": [
       "array([[-0.87657166,  1.43415833,  0.68700409, ...,  0.        ,\n",
       "         0.        ,  0.        ],\n",
       "       [-1.77087402, -0.73901367,  1.61315918, ...,  0.        ,\n",
       "         0.        ,  0.        ],\n",
       "       [-0.04394531, -0.03820801,  0.24536133, ...,  0.        ,\n",
       "         0.        ,  0.        ],\n",
       "       ...,\n",
       "       [ 4.98567009, -3.46865177, -3.66094875, ...,  0.        ,\n",
       "         0.        ,  0.        ],\n",
       "       [-2.57623291, -1.34979248,  1.32925415, ...,  0.        ,\n",
       "         0.        ,  0.        ],\n",
       "       [-3.43261719,  3.02185059,  2.18554688, ...,  0.        ,\n",
       "         0.        ,  0.        ]])"
      ]
     },
     "execution_count": 9,
     "metadata": {},
     "output_type": "execute_result"
    }
   ],
   "source": []
  },
  {
   "cell_type": "code",
   "execution_count": null,
   "metadata": {},
   "outputs": [],
   "source": []
  }
 ],
 "metadata": {
  "kernelspec": {
   "display_name": "Python 3",
   "language": "python",
   "name": "python3"
  },
  "language_info": {
   "codemirror_mode": {
    "name": "ipython",
    "version": 3
   },
   "file_extension": ".py",
   "mimetype": "text/x-python",
   "name": "python",
   "nbconvert_exporter": "python",
   "pygments_lexer": "ipython3",
   "version": "3.7.4"
  }
 },
 "nbformat": 4,
 "nbformat_minor": 4
}
