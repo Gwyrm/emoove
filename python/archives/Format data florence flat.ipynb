{
 "cells": [
  {
   "cell_type": "code",
   "execution_count": 10,
   "metadata": {},
   "outputs": [],
   "source": [
    "import numpy as np\n",
    "import matplotlib.pyplot as plt\n",
    "import pandas"
   ]
  },
  {
   "cell_type": "code",
   "execution_count": 11,
   "metadata": {},
   "outputs": [],
   "source": [
    "f = open(\"data/Florence_dataset_WorldCoordinates.txt\")\n",
    "tmp = np.genfromtxt(f, delimiter=' ')\n",
    "mvt = np.array(tmp)"
   ]
  },
  {
   "cell_type": "code",
   "execution_count": 12,
   "metadata": {},
   "outputs": [],
   "source": [
    "# nombre de ligne/colonne du tableau de mouvements\n",
    "(li, col) = mvt.shape\n",
    "\n",
    "# unique contient tous les idVideos distinct\n",
    "# counts contient le nombre d'occurence de chaque unique \n",
    "unique, counts = np.unique(mvt[:,0], return_counts=True)\n",
    "\n",
    "# le tableau commence à zéros !\n",
    "# mais les id de vidéos commencent à 1\n",
    "# et le nombre de position par vidéo doit être réduire de 1\n",
    "# counts[0] -= 1\n",
    "unique -= 1\n",
    "\n",
    "nb_frame_max = max(counts)"
   ]
  },
  {
   "cell_type": "code",
   "execution_count": 52,
   "metadata": {},
   "outputs": [],
   "source": [
    "debut = 0\n",
    "fin = 0\n",
    "\n",
    "tab_flat = np.arange(1578)\n",
    "\n",
    "cats = [ -1 for x in range(9) ]\n",
    "\n",
    "periode_max = [x for x in range(nb_frame_max)]\n",
    "\n",
    "cpt = 0\n",
    "\n",
    "# Parcours des tous les id de vidéos\n",
    "# Donc de chaque mouvements\n",
    "for i in unique:\n",
    "    # nombre de frame de la vidéo en cours\n",
    "    indice = int(i)\n",
    "    nb_frame = counts[indice]\n",
    "    # laps de temps du mouvement\n",
    "    periode = [x for x in range(nb_frame)]\n",
    "    \n",
    "    debut = fin\n",
    "    fin = fin + nb_frame\n",
    "    \n",
    "#     spécialement pour la base de données florence\n",
    "#     Head: f1-f3\n",
    "#     Neck: f4-f6\n",
    "#     Spine: f7-f9\n",
    "#     Left Shoulder: f10-f12\n",
    "#     Left Elbow: f13-f15\n",
    "#     Left Wrist: f16-f18 \n",
    "#     Right Shoulder: f19-f21 \n",
    "#     Right Elbow: f22-f24\n",
    "#     Right Wrist: f25-f27\n",
    "#     Left Hip: f28-f30 \n",
    "#     Left Knee: f31-f33 \n",
    "#     Left Ankle: f34-f36 \n",
    "#     Right Hip: f37-f39 \n",
    "#     Right Knee: f40-f42\n",
    "#     Right Ankle: f43-f45\n",
    "    \n",
    "    tmp = np.array(mvt[debut:fin,3:]).T\n",
    "\n",
    "    idcat_tmp = int(mvt[debut,2])\n",
    "    idactor = int(mvt[debut,1])\n",
    "    \n",
    "    idcat = idcat_tmp - 1\n",
    "    \n",
    "    mvt_norm = [0 for x in range(35)]\n",
    "    \n",
    "    for c in tmp:\n",
    "        # pour chaque ligne\n",
    "        # interpolation pour avoir le même nombre de frame / mvt\n",
    "        # To-do : a revoir\n",
    "        nb_val = nb_frame_max - nb_frame\n",
    "        yinterp = np.append(c,[0 for x in range(nb_val)])\n",
    "        mvt_norm = np.vstack([mvt_norm, yinterp.T])\n",
    "    \n",
    "    mvt_norm = mvt_norm[1:].T.flatten()\n",
    "\n",
    "#   0 => id category\n",
    "#   1 => id actor\n",
    "#   2 => frame per sequence\n",
    "\n",
    "    mvt_norm = np.insert(mvt_norm, 0, idcat_tmp)\n",
    "    mvt_norm = np.insert(mvt_norm, 1, idactor)\n",
    "    mvt_norm = np.insert(mvt_norm, 2, nb_frame)\n",
    "    \n",
    "    cats[idcat] += 1\n",
    "    \n",
    "#     tab_mvt[idcat][cats[idcat]][:][:] = mvt_norm.copy()\n",
    "#     if mvt_norm.all() > 0:\n",
    "    tab_flat = np.vstack([tab_flat, mvt_norm.copy()])\n",
    "\n",
    "tab_flat = tab_flat[1:]\n",
    "np.save(\"data/data_flo_flat.npy\",tab_flat)"
   ]
  },
  {
   "cell_type": "code",
   "execution_count": 55,
   "metadata": {},
   "outputs": [
    {
     "data": {
      "text/plain": [
       "-222.73712158203125"
      ]
     },
     "execution_count": 55,
     "metadata": {},
     "output_type": "execute_result"
    }
   ],
   "source": [
    "tab_flat[0,3]"
   ]
  },
  {
   "cell_type": "code",
   "execution_count": null,
   "metadata": {},
   "outputs": [],
   "source": []
  },
  {
   "cell_type": "code",
   "execution_count": null,
   "metadata": {},
   "outputs": [],
   "source": []
  }
 ],
 "metadata": {
  "kernelspec": {
   "display_name": "Python 3",
   "language": "python",
   "name": "python3"
  },
  "language_info": {
   "codemirror_mode": {
    "name": "ipython",
    "version": 3
   },
   "file_extension": ".py",
   "mimetype": "text/x-python",
   "name": "python",
   "nbconvert_exporter": "python",
   "pygments_lexer": "ipython3",
   "version": "3.7.6"
  }
 },
 "nbformat": 4,
 "nbformat_minor": 4
}
