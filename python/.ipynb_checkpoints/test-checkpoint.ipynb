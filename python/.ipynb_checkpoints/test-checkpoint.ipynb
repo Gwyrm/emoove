{
 "cells": [
  {
   "cell_type": "code",
   "execution_count": 1,
   "metadata": {},
   "outputs": [],
   "source": [
    "import numpy as np"
   ]
  },
  {
   "cell_type": "code",
   "execution_count": 8,
   "metadata": {},
   "outputs": [],
   "source": [
    "tab = np.array([\n",
    "    [3, 5],\n",
    "    [6, 2],\n",
    "    [1, 1],\n",
    "    [5, 9]\n",
    "])"
   ]
  },
  {
   "cell_type": "code",
   "execution_count": 9,
   "metadata": {},
   "outputs": [
    {
     "data": {
      "text/plain": [
       "array([[1, 1],\n",
       "       [3, 5],\n",
       "       [5, 9],\n",
       "       [6, 2]])"
      ]
     },
     "execution_count": 9,
     "metadata": {},
     "output_type": "execute_result"
    }
   ],
   "source": [
    "tab_sort = tab[np.argsort(tab[:,0])]\n",
    "tab_sort"
   ]
  },
  {
   "cell_type": "code",
   "execution_count": 23,
   "metadata": {},
   "outputs": [
    {
     "name": "stdout",
     "output_type": "stream",
     "text": [
      "00001000\n",
      "00000100\n"
     ]
    }
   ],
   "source": [
    "a = format(8,'b').zfill(8)\n",
    "b = format(32, 'b').zfill(8)[::-1]\n",
    "\n",
    "print(a)\n",
    "print(b)"
   ]
  },
  {
   "cell_type": "code",
   "execution_count": 8,
   "metadata": {},
   "outputs": [
    {
     "name": "stdout",
     "output_type": "stream",
     "text": [
      "i 0\n",
      "i 1\n",
      "i 2\n",
      "i 3\n",
      "a 0001100100\n",
      "b 100000\n"
     ]
    }
   ],
   "source": [
    "pt_crossover = 4\n",
    "\n",
    "for i in range(pt_crossover):\n",
    "    print(\"i\", i)\n",
    "    tmp_a = a[i]\n",
    "    \n",
    "    a = a[:i] + b[i] + a[i+1:]\n",
    "    b = b[:i] + tmp_a + b[i+1:]\n",
    "    \n",
    "print('a', a.zfill(10))\n",
    "print('b', b)"
   ]
  },
  {
   "cell_type": "code",
   "execution_count": 5,
   "metadata": {},
   "outputs": [],
   "source": [
    "tab_crossover = (a,b)"
   ]
  },
  {
   "cell_type": "code",
   "execution_count": null,
   "metadata": {},
   "outputs": [],
   "source": [
    "tab = np.array([2])\n",
    "tab = np.array(tab, tab_crossover)"
   ]
  },
  {
   "cell_type": "code",
   "execution_count": 10,
   "metadata": {},
   "outputs": [
    {
     "name": "stdout",
     "output_type": "stream",
     "text": [
      "8\n",
      "7\n",
      "6\n",
      "5\n"
     ]
    }
   ],
   "source": [
    "for i in range(8,4, -1):\n",
    "    print(i)"
   ]
  },
  {
   "cell_type": "code",
   "execution_count": 6,
   "metadata": {},
   "outputs": [
    {
     "data": {
      "text/plain": [
       "1"
      ]
     },
     "execution_count": 6,
     "metadata": {},
     "output_type": "execute_result"
    }
   ],
   "source": [
    "abs(0-1)"
   ]
  },
  {
   "cell_type": "code",
   "execution_count": 17,
   "metadata": {},
   "outputs": [
    {
     "data": {
      "text/plain": [
       "array([[3.77829625e-01, 8.86186817e-01, 3.40420631e-01],\n",
       "       [4.52916022e-01, 1.05342005e-01, 3.26996965e-01],\n",
       "       [5.77303335e-01, 3.55369684e-01, 8.57094192e-01],\n",
       "       [7.43092755e-01, 2.50182201e-01, 9.04903636e-01],\n",
       "       [8.24011160e-01, 7.54181859e-01, 9.72429937e-01],\n",
       "       [9.25242796e-01, 5.80159811e-01, 7.13904446e-02],\n",
       "       [9.45836576e-01, 4.42282144e-04, 6.89958382e-01],\n",
       "       [9.56781898e-01, 9.65950635e-02, 7.63858971e-01],\n",
       "       [9.72664328e-01, 7.98803598e-01, 4.25225346e-01],\n",
       "       [9.96151133e-01, 9.44755087e-01, 2.16480595e-01]])"
      ]
     },
     "execution_count": 17,
     "metadata": {},
     "output_type": "execute_result"
    }
   ],
   "source": [
    "tab = np.random.rand(10,3)\n",
    "tab_sort = tab[np.argsort(tab[:,0])]\n",
    "tab_sort"
   ]
  },
  {
   "cell_type": "code",
   "execution_count": null,
   "metadata": {},
   "outputs": [],
   "source": [
    "from bvhpython.bvh import Bvh\n",
    "\n",
    "import pandas as pd\n",
    "import os\n",
    "import numpy as np\n",
    "\n",
    "%run bvh_extract.ipynb\n",
    "\n",
    "path = \"data/own_data/\"\n",
    "list_dir = os.listdir(path)\n",
    "\n",
    "ext_bvh = extract_bvh(9000,354)\n",
    "\n",
    "def remove_no_bvh_file(file_list, path):\n",
    "    for f in file_list:\n",
    "        path_f = path + f\n",
    "        fileName, fileExtension = os.path.splitext(path_f)\n",
    "        if fileExtension != '.bvh':\n",
    "            file_list.remove(f)\n",
    "        \n",
    "    return file_list\n",
    "\n",
    "tab_mvts = np.zeros((6,2, 9000, 354))\n",
    "i=0\n",
    "j=0\n",
    "for d in list_dir:\n",
    "    list_file = remove_no_bvh_file(os.listdir(path+d), \n",
    "                                   path+d)\n",
    "    print(\"Dossier\", d)  \n",
    "    print('i',i)\n",
    "    j=0\n",
    "    for f in list_file:\n",
    "        #print(\"File\", f)\n",
    "        with open(path+d+\"/\"+f) as m:\n",
    "            #mvt = np.array(Bvh(m.read()).frames, dtype=\"float\").T\n",
    "            #df = pd.DataFrame(mvt)\n",
    "            #bvh_file = Bvh(m.read())\n",
    "            bvh_file = ext_bvh.extract_one(m)\n",
    "            tab_mvts[j,i] = np.array(bvh_file.frames)\n",
    "            #df_tmp = pd.DataFrame({d: bvh_file})\n",
    "            #df.to_csv(f+\".csv\")\n",
    "        j+=1\n",
    "\n",
    "    i+=1 \n",
    "            \n",
    "df = pd.DataFrame(tab_mvts, index = ['1', '2', '3', '4', '5', '6'], columns = ['M', 'MP'])"
   ]
  },
  {
   "cell_type": "code",
   "execution_count": 65,
   "metadata": {},
   "outputs": [],
   "source": [
    "from bvhpython.bvh import Bvh\n",
    "\n",
    "import pandas as pd\n",
    "import os\n",
    "import numpy as np\n",
    "\n",
    "class bvh_to_csv:\n",
    "    \n",
    "    def _bvh_files(self,path):\n",
    "        # lors du parcours d'un dossier\n",
    "        # on recupere que les fichiers avec l'extension .bvh\n",
    "        # pour pouvoir parcourir ensuite tous les fichiers à extraire\n",
    "        file_list = os.listdir(path)\n",
    "        for f in os.listdir(path):\n",
    "            path_f = path + f\n",
    "            fileName, fileExtension = os.path.splitext(path_f)\n",
    "            if fileExtension != '.bvh':\n",
    "                file_list.remove(f)\n",
    "\n",
    "        return file_list\n",
    "    \n",
    "    def extract_file(self,path,file,path_to_save):\n",
    "        if os.path.exists(path_csv_data) == False:\n",
    "            os.mkdir(path_csv_data)\n",
    "    \n",
    "        # extraction d'un fichier bvh\n",
    "        with open(path + '/'+ file) as m:\n",
    "            bvh_file = Bvh(m.read()).frames\n",
    "            #mvt = np.array(bvh_file, dtype=\"float\").T\n",
    "            df = pd.DataFrame(bvh_file)\n",
    "            df.to_csv(path_to_save+'/'+file+\".csv\")\n",
    "            \n",
    "    def extract_folder(self,path_folder,path_to_save):\n",
    "        if os.path.exists(path_csv_data) == False:\n",
    "            os.mkdir(path_csv_data)\n",
    "        # extraction des fichiers bvh dans un dossier\n",
    "        list_bvh_file = self._bvh_files(path_folder)\n",
    "        for f in list_bvh_file:\n",
    "            self.extract_file(path_folder,f,path_to_save)\n",
    "            "
   ]
  },
  {
   "cell_type": "code",
   "execution_count": 66,
   "metadata": {},
   "outputs": [],
   "source": [
    "btc = bvh_to_csv()\n",
    "path = 'data/train/bvh'\n",
    "save = 'data/train/csv'\n",
    "btc.extract_folder(path, save)"
   ]
  },
  {
   "cell_type": "code",
   "execution_count": 15,
   "metadata": {},
   "outputs": [
    {
     "data": {
      "text/plain": [
       "array([-1.09617371, -1.73980559, -0.57550217,  0.06698163, -0.16715114,\n",
       "       -0.26203113,  1.07844463,  1.36265261, -0.32040676, -0.23118379])"
      ]
     },
     "execution_count": 15,
     "metadata": {},
     "output_type": "execute_result"
    }
   ],
   "source": [
    "from numpy.random import default_rng\n",
    "rng = default_rng()\n",
    "vals = rng.standard_normal(10)\n",
    "more_vals = rng.standard_normal(10)\n",
    "\n",
    "vals"
   ]
  },
  {
   "cell_type": "code",
   "execution_count": 36,
   "metadata": {},
   "outputs": [
    {
     "name": "stdout",
     "output_type": "stream",
     "text": [
      "Random number between 0 and 1:\n",
      "[8.93090661e-05 1.00042147e-04 1.10980627e-04 1.01907765e-04\n",
      " 1.11738178e-04 1.01857770e-04 9.02796602e-05 9.82811244e-05\n",
      " 9.50420753e-05 1.10247577e-04]\n"
     ]
    }
   ],
   "source": [
    "import numpy as np\n",
    "rand_num = np.random.normal(0.0001,0.00001, 10)\n",
    "print(\"Random number between 0 and 1:\")\n",
    "print(rand_num)"
   ]
  },
  {
   "cell_type": "code",
   "execution_count": 35,
   "metadata": {},
   "outputs": [
    {
     "name": "stdout",
     "output_type": "stream",
     "text": [
      "['f' 'k' 'e' 'l' 'b' 'k' 'f' 'k' 'a' 'c']\n"
     ]
    }
   ],
   "source": [
    "t = np.array(['a', 'b', 'c', 'd', 'e' , 'f', 'i', 'j', 'k', 'l', 'm'])\n",
    "print(t[rand_num])"
   ]
  },
  {
   "cell_type": "code",
   "execution_count": 78,
   "metadata": {},
   "outputs": [],
   "source": [
    "res = np.array([['303', '0.0001', '15', '10', 'selu', 'nan', '0.5'],\n",
    " ['224', '0.0001', '41', '27', 'relu', 'nan', '0.5'],\n",
    " ['375', '1e-06', '31', '17', 'relu', 'nan', '0.5'],\n",
    " ['240', '1e-06', '43', '6', 'relu', 'nan', '0.5'],\n",
    " ['327', '1e-05', '35', '5', 'tanh', '0.6022366583347321', '0.75'],\n",
    " ['80', '0.0001', '40', '20', 'selu', 'nan', '0.5'],\n",
    " ['352', '1e-06', '29', '10', 'relu', 'nan', '0.5'],\n",
    " ['246', '0.0001', '16', '18', 'tanh', '0.5272396951913834', '0.75'],\n",
    " ['156', '0.0001', '2', '24', 'relu', 'nan', '0.5'],\n",
    " ['346', '1e-06', '19', '14', 'relu', 'nan', '0.5'],\n",
    " ['0', '0', '0', '0', '0', '0', '0']])"
   ]
  },
  {
   "cell_type": "code",
   "execution_count": 79,
   "metadata": {},
   "outputs": [
    {
     "data": {
      "text/plain": [
       "array([['0', '0', '0', '0', '0', '0', '0'],\n",
       "       ['303', '0.0001', '15', '10', 'selu', 'nan', '0.5'],\n",
       "       ['224', '0.0001', '41', '27', 'relu', 'nan', '0.5'],\n",
       "       ['375', '1e-06', '31', '17', 'relu', 'nan', '0.5'],\n",
       "       ['240', '1e-06', '43', '6', 'relu', 'nan', '0.5'],\n",
       "       ['80', '0.0001', '40', '20', 'selu', 'nan', '0.5'],\n",
       "       ['352', '1e-06', '29', '10', 'relu', 'nan', '0.5'],\n",
       "       ['156', '0.0001', '2', '24', 'relu', 'nan', '0.5'],\n",
       "       ['346', '1e-06', '19', '14', 'relu', 'nan', '0.5'],\n",
       "       ['327', '1e-05', '35', '5', 'tanh', '0.6022366583347321', '0.75'],\n",
       "       ['246', '0.0001', '16', '18', 'tanh', '0.5272396951913834',\n",
       "        '0.75']], dtype='<U18')"
      ]
     },
     "execution_count": 79,
     "metadata": {},
     "output_type": "execute_result"
    }
   ],
   "source": [
    "res = res[np.argsort(res[:, 6])]\n",
    "res"
   ]
  },
  {
   "cell_type": "code",
   "execution_count": 82,
   "metadata": {},
   "outputs": [
    {
     "data": {
      "text/plain": [
       "(11, 7)"
      ]
     },
     "execution_count": 82,
     "metadata": {},
     "output_type": "execute_result"
    }
   ],
   "source": [
    "res_flip = np.flip(res, 0)\n",
    "res_flip.shape"
   ]
  },
  {
   "cell_type": "code",
   "execution_count": 87,
   "metadata": {},
   "outputs": [
    {
     "data": {
      "text/plain": [
       "array([['246', '0.0001', '16', '18', 'tanh', '0.5272396951913834',\n",
       "        '0.75'],\n",
       "       ['327', '1e-05', '35', '5', 'tanh', '0.6022366583347321', '0.75'],\n",
       "       ['346', '1e-06', '19', '14', 'relu', 'nan', '0.5'],\n",
       "       ['156', '0.0001', '2', '24', 'relu', 'nan', '0.5'],\n",
       "       ['352', '1e-06', '29', '10', 'relu', 'nan', '0.5'],\n",
       "       ['80', '0.0001', '40', '20', 'selu', 'nan', '0.5'],\n",
       "       ['240', '1e-06', '43', '6', 'relu', 'nan', '0.5'],\n",
       "       ['375', '1e-06', '31', '17', 'relu', 'nan', '0.5'],\n",
       "       ['224', '0.0001', '41', '27', 'relu', 'nan', '0.5'],\n",
       "       ['303', '0.0001', '15', '10', 'selu', 'nan', '0.5'],\n",
       "       ['0', '0', '0', '0', '0', '0', '0'],\n",
       "       ['0.0', '0.0', '0.0', '0.0', '0.0', '0.0', '0.0']], dtype='<U32')"
      ]
     },
     "execution_count": 87,
     "metadata": {},
     "output_type": "execute_result"
    }
   ],
   "source": [
    "top_3 = np.zeros((7))\n",
    "\n",
    "top_3 = np.vstack([res_flip, top_3])\n",
    "top_3\n"
   ]
  },
  {
   "cell_type": "code",
   "execution_count": 13,
   "metadata": {},
   "outputs": [],
   "source": [
    "import numpy as np \n",
    "from bvhpython.bvh import Bvh\n",
    "import matplotlib.pyplot as plt\n",
    "\n",
    "path = \"data/own_data/marche/marcheChar00.bvh\"\n",
    "with open(path) as f:\n",
    "    mvt = np.array(Bvh(f.read()).frames, dtype=\"float\").T\n",
    "    \n",
    "path = \"data/own_data/marche parkinsonienne/marche_pChar00.bvh\"\n",
    "with open(path) as f:\n",
    "    mvt2 = np.array(Bvh(f.read()).frames, dtype=\"float\").T"
   ]
  },
  {
   "cell_type": "code",
   "execution_count": 15,
   "metadata": {},
   "outputs": [
    {
     "data": {
      "text/plain": [
       "[<matplotlib.lines.Line2D at 0x216fcae6088>]"
      ]
     },
     "execution_count": 15,
     "metadata": {},
     "output_type": "execute_result"
    },
    {
     "data": {
      "image/png": "[encoded data removed]",
      "text/plain": [
       "<Figure size 432x288 with 1 Axes>"
      ]
     },
     "metadata": {
      "needs_background": "light"
     },
     "output_type": "display_data"
    }
   ],
   "source": [
    "plt.plot(mvt[97,:])\n",
    "plt.plot(mvt2[97,:])"
   ]
  },
  {
   "cell_type": "code",
   "execution_count": 59,
   "metadata": {},
   "outputs": [],
   "source": [
    "from random import randint\n",
    "\n",
    "tab_tem = np.array(range(21)) + 1\n",
    "sequences = np.array([3,6,12,4,16],dtype='int')\n",
    "\n",
    "for n in range(100):\n",
    "    seq = np.array([],dtype='int')\n",
    "    tab = tab_tem\n",
    "    for i in range(5):\n",
    "        nb_mvt = tab.size - 1\n",
    "        rand_int = int(tab[randint(0,nb_mvt)])\n",
    "        to_del = np.where(tab==rand_int)\n",
    "        tab = np.delete(tab,to_del)\n",
    "        seq = np.append(seq,rand_int)\n",
    "    sequences = np.vstack([sequences, seq])"
   ]
  },
  {
   "cell_type": "code",
   "execution_count": 60,
   "metadata": {},
   "outputs": [
    {
     "name": "stdout",
     "output_type": "stream",
     "text": [
      "ok\n"
     ]
    }
   ],
   "source": [
    "import pandas as pd\n",
    "\n",
    "(val,counts) = np.unique(sequences,axis=0,return_counts=True)\n",
    "if counts[counts!=1].size == 0:\n",
    "    print(\"ok\")\n",
    "    df = pd.DataFrame(sequences)\n",
    "    df.to_csv('../Protocole Experimental/sequence.csv')"
   ]
  },
  {
   "cell_type": "code",
   "execution_count": null,
   "metadata": {},
   "outputs": [],
   "source": []
  }
 ],
 "metadata": {
  "kernelspec": {
   "display_name": "Python 3",
   "language": "python",
   "name": "python3"
  },
  "language_info": {
   "codemirror_mode": {
    "name": "ipython",
    "version": 3
   },
   "file_extension": ".py",
   "mimetype": "text/x-python",
   "name": "python",
   "nbconvert_exporter": "python",
   "pygments_lexer": "ipython3",
   "version": "3.8.3"
  }
 },
 "nbformat": 4,
 "nbformat_minor": 4
}
