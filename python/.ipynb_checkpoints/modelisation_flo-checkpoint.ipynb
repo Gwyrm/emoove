{
 "cells": [
  {
   "cell_type": "code",
   "execution_count": 1,
   "metadata": {},
   "outputs": [
    {
     "ename": "NameError",
     "evalue": "name 'np' is not defined",
     "output_type": "error",
     "traceback": [
      "\u001b[0;31m---------------------------------------------------------------------------\u001b[0m",
      "\u001b[0;31mNameError\u001b[0m                                 Traceback (most recent call last)",
      "\u001b[0;32m<ipython-input-1-1c89b4ba01e4>\u001b[0m in \u001b[0;36m<module>\u001b[0;34m\u001b[0m\n\u001b[1;32m      9\u001b[0m \u001b[0;31m# 2 => category id\u001b[0m\u001b[0;34m\u001b[0m\u001b[0;34m\u001b[0m\u001b[0;34m\u001b[0m\u001b[0m\n\u001b[1;32m     10\u001b[0m \u001b[0;31m# 3 => mvt belonging to the two previous id's\u001b[0m\u001b[0;34m\u001b[0m\u001b[0;34m\u001b[0m\u001b[0;34m\u001b[0m\u001b[0m\n\u001b[0;32m---> 11\u001b[0;31m \u001b[0mmvts\u001b[0m \u001b[0;34m=\u001b[0m \u001b[0mnp\u001b[0m\u001b[0;34m.\u001b[0m\u001b[0marray\u001b[0m\u001b[0;34m(\u001b[0m\u001b[0;34m[\u001b[0m\u001b[0;36m0\u001b[0m\u001b[0;34m,\u001b[0m \u001b[0;36m0\u001b[0m\u001b[0;34m,\u001b[0m \u001b[0;34m[\u001b[0m\u001b[0;34m[\u001b[0m \u001b[0mx\u001b[0m \u001b[0;32mfor\u001b[0m \u001b[0mx\u001b[0m \u001b[0;32min\u001b[0m \u001b[0mrange\u001b[0m\u001b[0;34m(\u001b[0m\u001b[0mnb_frame_max\u001b[0m\u001b[0;34m)\u001b[0m\u001b[0;34m]\u001b[0m \u001b[0;32mfor\u001b[0m \u001b[0my\u001b[0m \u001b[0;32min\u001b[0m \u001b[0mrange\u001b[0m\u001b[0;34m(\u001b[0m\u001b[0;36m45\u001b[0m\u001b[0;34m)\u001b[0m\u001b[0;34m]\u001b[0m\u001b[0;34m]\u001b[0m\u001b[0;34m)\u001b[0m\u001b[0;34m\u001b[0m\u001b[0;34m\u001b[0m\u001b[0m\n\u001b[0m\u001b[1;32m     12\u001b[0m \u001b[0;34m\u001b[0m\u001b[0m\n\u001b[1;32m     13\u001b[0m \u001b[0;31m# browse of all id video\u001b[0m\u001b[0;34m\u001b[0m\u001b[0;34m\u001b[0m\u001b[0;34m\u001b[0m\u001b[0m\n",
      "\u001b[0;31mNameError\u001b[0m: name 'np' is not defined"
     ]
    }
   ],
   "source": [
    "# Creation of the mvt data base of the Florence university\n",
    "\n",
    "# Initialization of the mvt tab\n",
    "# allow to use np.vstack() function of numpy lib\n",
    "# vstack stack object of the same size\n",
    "\n",
    "# mvts is a array of 3-column\n",
    "# 1 => actor id\n",
    "# 2 => category id\n",
    "# 3 => mvt belonging to the two previous id's\n",
    "mvts = np.array([0, 0, [[ x for x in range(nb_frame_max)] for y in range(45)]])\n",
    "\n",
    "# browse of all id video\n",
    "for n in unique:\n",
    "    \n",
    "    idvideo = int(n)\n",
    "    \n",
    "    # motion recovery\n",
    "    tmp = mvt[mvt[:,0] == idvideo]\n",
    "    \n",
    "    # index 0 = idvideo\n",
    "    # index 1 = idactor\n",
    "    # index 2 = idcategory\n",
    "    idcat = int(tmp[0,2])\n",
    "    idactor = int(tmp[0,1])\n",
    "    \n",
    "    # id data removing\n",
    "    tmp = tmp[:,3:]\n",
    "    \n",
    "    # preparing the normalized matrice\n",
    "    m_n = np.zeros((nb_frame_max, 45))\n",
    "    \n",
    "    # nb frame of the motion\n",
    "    dim_m = tmp.shape[0]\n",
    "    \n",
    "    i = 0\n",
    "    # interpolation\n",
    "    while i < tmp.shape[1]:\n",
    "        f = interp1d(np.arange(dim_m), tmp[:,i], fill_value='extrapolate')\n",
    "        m_n[:,i] = np.array(f(np.linspace(0, dim_m, nb_frame_max)))\n",
    "        i += 1\n",
    "    \n",
    "    tmp = m_n\n",
    "    # the mvt is transposed in order to have time-based coordinates \n",
    "    tmp = np.array([idactor, idcat, tmp.T])\n",
    "    \n",
    "    mvts = np.vstack([mvts, tmp])\n",
    "\n",
    "# removing the first iteration of the mvt tab \n",
    "# which was created for vstack function\n",
    "mvts = mvts[1:]\n",
    "\n",
    "# comparision before / after\n",
    "tmp = mvt[mvt[:,0] == 1].T\n",
    "print(tmp[3])\n",
    "print(tmp.shape)\n",
    "\n",
    "# plot\n",
    "plt.plot(tmp[3],'r-', label=\"Florence data\")\n",
    "plt.plot(np.linspace(0,27,nb_frame_max), mvts[0,2][0,:], label=\"Interpolate data with linspace\")\n",
    "plt.plot(mvts[0,2][0,:], 'g-', label=\"Interpolate data without linspace\")\n",
    "plt.legend()\n",
    "\n",
    "print(mvts[0,2])\n",
    "mvts[0,2].shape"
   ]
  },
  {
   "cell_type": "code",
   "execution_count": null,
   "metadata": {},
   "outputs": [],
   "source": [
    "# Creation of the train and test dataset\n",
    "\n",
    "# train data contains all data except the data of actor one\n",
    "tmp = mvts[mvts[:,0] != 1]\n",
    "x_train = np.array([x[2] for x in tmp])\n",
    "y_train = tmp[:,1]\n",
    "\n",
    "# test data contains data of actor 1 only\n",
    "tmp = mvts[mvts[:,0] == 1]\n",
    "x_test =  np.array([x[2] for x in tmp])\n",
    "y_test = np.array(tmp[:,1], dtype=\"int\")\n"
   ]
  }
 ],
 "metadata": {
  "kernelspec": {
   "display_name": "Python 3",
   "language": "python",
   "name": "python3"
  },
  "language_info": {
   "codemirror_mode": {
    "name": "ipython",
    "version": 3
   },
   "file_extension": ".py",
   "mimetype": "text/x-python",
   "name": "python",
   "nbconvert_exporter": "python",
   "pygments_lexer": "ipython3",
   "version": "3.8.3"
  }
 },
 "nbformat": 4,
 "nbformat_minor": 4
}
