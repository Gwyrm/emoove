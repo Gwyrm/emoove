{
 "cells": [
  {
   "cell_type": "code",
   "execution_count": 2,
   "metadata": {},
   "outputs": [],
   "source": [
    "import time"
   ]
  },
  {
   "cell_type": "code",
   "execution_count": 1,
   "metadata": {},
   "outputs": [],
   "source": [
    "class time_calcul:\n",
    "    \n",
    "    def __init__(self):\n",
    "        self.begin = 0\n",
    "        self.end = 0\n",
    "        \n",
    "    def start(self):\n",
    "        self.begin = time.time()\n",
    "        \n",
    "    def stop(self):\n",
    "        self.end = time.time()\n",
    "        return self.end - self.begin"
   ]
  }
 ],
 "metadata": {
  "kernelspec": {
   "display_name": "Python 3",
   "language": "python",
   "name": "python3"
  },
  "language_info": {
   "codemirror_mode": {
    "name": "ipython",
    "version": 3
   },
   "file_extension": ".py",
   "mimetype": "text/x-python",
   "name": "python",
   "nbconvert_exporter": "python",
   "pygments_lexer": "ipython3",
   "version": "3.7.6"
  }
 },
 "nbformat": 4,
 "nbformat_minor": 4
}
